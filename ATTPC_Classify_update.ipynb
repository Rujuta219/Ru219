{
 "cells": [
  {
   "cell_type": "code",
   "execution_count": 1,
   "metadata": {},
   "outputs": [
    {
     "name": "stdout",
     "output_type": "stream",
     "text": [
      "2.2.0\n"
     ]
    }
   ],
   "source": [
    "import tensorflow as tf\n",
    "from tensorflow import reshape\n",
    "from tensorflow.keras import datasets, layers, models, metrics, Model\n",
    "from tensorflow.keras.callbacks import Callback\n",
    "#from data import load_image_h5\n",
    "from sklearn.metrics import classification_report\n",
    "import numpy as np\n",
    "import matplotlib.pyplot as plt\n",
    "import h5py\n",
    "#import datetime\n",
    "print(tf.__version__)"
   ]
  },
  {
   "cell_type": "code",
   "execution_count": 2,
   "metadata": {},
   "outputs": [],
   "source": [
    "hf = h5py.File('xy-Mg22.h5', 'r')"
   ]
  },
  {
   "cell_type": "code",
   "execution_count": 3,
   "metadata": {},
   "outputs": [],
   "source": [
    "image_width, image_length, image_channels = 128, 128, 3\n",
    "image_shape = (128,128,3)"
   ]
  },
  {
   "cell_type": "code",
   "execution_count": 4,
   "metadata": {},
   "outputs": [],
   "source": [
    "data = hf['features']\n",
    "label = hf['targets']"
   ]
  },
  {
   "cell_type": "code",
   "execution_count": 5,
   "metadata": {},
   "outputs": [
    {
     "data": {
      "text/plain": [
       "(2000, 128, 128)"
      ]
     },
     "execution_count": 5,
     "metadata": {},
     "output_type": "execute_result"
    }
   ],
   "source": [
    "data.shape"
   ]
  },
  {
   "cell_type": "code",
   "execution_count": 6,
   "metadata": {},
   "outputs": [],
   "source": [
    "train_data = data[0:1600]  # can use train test split function from skilearn for this task \n",
    "test_data = data[1601:2000]\n",
    "train_label = label[0:1600]\n",
    "test_label = label[1601:2000]"
   ]
  },
  {
   "cell_type": "code",
   "execution_count": 7,
   "metadata": {},
   "outputs": [
    {
     "data": {
      "text/plain": [
       "(1600, 128, 128, 1)"
      ]
     },
     "execution_count": 7,
     "metadata": {},
     "output_type": "execute_result"
    }
   ],
   "source": [
    "from numpy import expand_dims\n",
    "train_data=expand_dims(train_data, axis=3)\n",
    "train_data.shape"
   ]
  },
  {
   "cell_type": "code",
   "execution_count": 8,
   "metadata": {},
   "outputs": [
    {
     "data": {
      "text/plain": [
       "(1600, 128, 128, 3)"
      ]
     },
     "execution_count": 8,
     "metadata": {},
     "output_type": "execute_result"
    }
   ],
   "source": [
    "train_data = np.concatenate((train_data,)*3, axis=-1)\n",
    "train_data.shape"
   ]
  },
  {
   "cell_type": "code",
   "execution_count": 9,
   "metadata": {},
   "outputs": [
    {
     "data": {
      "text/plain": [
       "(399, 128, 128, 1)"
      ]
     },
     "execution_count": 9,
     "metadata": {},
     "output_type": "execute_result"
    }
   ],
   "source": [
    "test_data=expand_dims(test_data, axis=3)\n",
    "test_data.shape"
   ]
  },
  {
   "cell_type": "code",
   "execution_count": 10,
   "metadata": {},
   "outputs": [
    {
     "data": {
      "text/plain": [
       "(399, 128, 128, 3)"
      ]
     },
     "execution_count": 10,
     "metadata": {},
     "output_type": "execute_result"
    }
   ],
   "source": [
    "test_data=np.concatenate((test_data,)*3, axis=-1)\n",
    "test_data.shape"
   ]
  },
  {
   "cell_type": "code",
   "execution_count": 11,
   "metadata": {},
   "outputs": [],
   "source": [
    "train_data = train_data.reshape((len(train_data), image_width, image_length, image_channels))"
   ]
  },
  {
   "cell_type": "code",
   "execution_count": 12,
   "metadata": {},
   "outputs": [],
   "source": [
    "train_data = train_data/255.0\n",
    "test_data = test_data/255.0"
   ]
  },
  {
   "cell_type": "code",
   "execution_count": 13,
   "metadata": {},
   "outputs": [],
   "source": [
    "callback = tf.keras.callbacks.EarlyStopping(monitor='val_loss', patience=10)"
   ]
  },
  {
   "cell_type": "code",
   "execution_count": 14,
   "metadata": {},
   "outputs": [],
   "source": [
    "vgg16_model = tf.keras.applications.VGG16(input_shape=image_shape, include_top=False, weights='imagenet')"
   ]
  },
  {
   "cell_type": "code",
   "execution_count": 15,
   "metadata": {},
   "outputs": [],
   "source": [
    "vgg16_model.trainable=True"
   ]
  },
  {
   "cell_type": "code",
   "execution_count": 16,
   "metadata": {},
   "outputs": [],
   "source": [
    "CNN_model = tf.keras.Sequential()\n",
    "CNN_model.add(vgg16_model)\n",
    "CNN_model.add(layers.Flatten())\n",
    "CNN_model.add(layers.Dense(175, activation='relu'))\n",
    "CNN_model.add(layers.Dropout(0.1))\n",
    "CNN_model.add(layers.Dense(175, activation='relu'))\n",
    "CNN_model.add(layers.Dropout(0.1))\n",
    "CNN_model.add(layers.Dense(3, activation='softmax'))\n",
    "\n",
    "CNN_model.compile(optimizer = tf.keras.optimizers.Adam(learning_rate=0.0000001),\n",
    "                 loss=tf.keras.losses.SparseCategoricalCrossentropy(from_logits=False),\n",
    "                 metrics=['accuracy'])"
   ]
  },
  {
   "cell_type": "code",
   "execution_count": 17,
   "metadata": {},
   "outputs": [
    {
     "name": "stdout",
     "output_type": "stream",
     "text": [
      "Epoch 1/100\n",
      "35/35 [==============================] - 167s 5s/step - loss: 1.0182 - accuracy: 0.4982 - val_loss: 1.0003 - val_accuracy: 0.4938\n",
      "Epoch 2/100\n",
      "35/35 [==============================] - 167s 5s/step - loss: 0.9936 - accuracy: 0.5009 - val_loss: 0.9790 - val_accuracy: 0.4938\n",
      "Epoch 3/100\n",
      "35/35 [==============================] - 176s 5s/step - loss: 0.9747 - accuracy: 0.5045 - val_loss: 0.9598 - val_accuracy: 0.4917\n",
      "Epoch 4/100\n",
      "35/35 [==============================] - 178s 5s/step - loss: 0.9674 - accuracy: 0.4902 - val_loss: 0.9425 - val_accuracy: 0.4938\n",
      "Epoch 5/100\n",
      "35/35 [==============================] - 182s 5s/step - loss: 0.9312 - accuracy: 0.5134 - val_loss: 0.9259 - val_accuracy: 0.4938\n",
      "Epoch 6/100\n",
      "35/35 [==============================] - 187s 5s/step - loss: 0.9372 - accuracy: 0.4955 - val_loss: 0.9102 - val_accuracy: 0.4917\n",
      "Epoch 7/100\n",
      "35/35 [==============================] - 186s 5s/step - loss: 0.9108 - accuracy: 0.5277 - val_loss: 0.8952 - val_accuracy: 0.4938\n",
      "Epoch 8/100\n",
      "35/35 [==============================] - 198s 6s/step - loss: 0.8988 - accuracy: 0.5259 - val_loss: 0.8811 - val_accuracy: 0.4958\n",
      "Epoch 9/100\n",
      "35/35 [==============================] - 231s 7s/step - loss: 0.8916 - accuracy: 0.4857 - val_loss: 0.8679 - val_accuracy: 0.5000\n",
      "Epoch 10/100\n",
      "35/35 [==============================] - 238s 7s/step - loss: 0.8775 - accuracy: 0.5018 - val_loss: 0.8554 - val_accuracy: 0.5000\n",
      "Epoch 11/100\n",
      "35/35 [==============================] - 237s 7s/step - loss: 0.8700 - accuracy: 0.5089 - val_loss: 0.8442 - val_accuracy: 0.5000\n",
      "Epoch 12/100\n",
      "35/35 [==============================] - 240s 7s/step - loss: 0.8581 - accuracy: 0.4920 - val_loss: 0.8342 - val_accuracy: 0.5021\n",
      "Epoch 13/100\n",
      "35/35 [==============================] - 240s 7s/step - loss: 0.8528 - accuracy: 0.4857 - val_loss: 0.8252 - val_accuracy: 0.5042\n",
      "Epoch 14/100\n",
      "35/35 [==============================] - 244s 7s/step - loss: 0.8376 - accuracy: 0.4991 - val_loss: 0.8167 - val_accuracy: 0.5021\n",
      "Epoch 15/100\n",
      "35/35 [==============================] - 254s 7s/step - loss: 0.8271 - accuracy: 0.5179 - val_loss: 0.8086 - val_accuracy: 0.4979\n",
      "Epoch 16/100\n",
      "35/35 [==============================] - 243s 7s/step - loss: 0.8261 - accuracy: 0.4955 - val_loss: 0.8005 - val_accuracy: 0.4958\n",
      "Epoch 17/100\n",
      "35/35 [==============================] - 239s 7s/step - loss: 0.8118 - accuracy: 0.5071 - val_loss: 0.7927 - val_accuracy: 0.4958\n",
      "Epoch 18/100\n",
      "35/35 [==============================] - 240s 7s/step - loss: 0.8079 - accuracy: 0.4821 - val_loss: 0.7859 - val_accuracy: 0.4938\n",
      "Epoch 19/100\n",
      "35/35 [==============================] - 249s 7s/step - loss: 0.7962 - accuracy: 0.5214 - val_loss: 0.7798 - val_accuracy: 0.4938\n",
      "Epoch 20/100\n",
      "35/35 [==============================] - 198s 6s/step - loss: 0.7890 - accuracy: 0.5036 - val_loss: 0.7739 - val_accuracy: 0.4979\n",
      "Epoch 21/100\n",
      "35/35 [==============================] - 190s 5s/step - loss: 0.7850 - accuracy: 0.5107 - val_loss: 0.7687 - val_accuracy: 0.4958\n",
      "Epoch 22/100\n",
      "35/35 [==============================] - 208s 6s/step - loss: 0.7830 - accuracy: 0.5179 - val_loss: 0.7639 - val_accuracy: 0.5021\n",
      "Epoch 23/100\n",
      "35/35 [==============================] - 208s 6s/step - loss: 0.7849 - accuracy: 0.4982 - val_loss: 0.7599 - val_accuracy: 0.5063\n",
      "Epoch 24/100\n",
      "35/35 [==============================] - 206s 6s/step - loss: 0.7766 - accuracy: 0.5036 - val_loss: 0.7562 - val_accuracy: 0.5042\n",
      "Epoch 25/100\n",
      "35/35 [==============================] - 215s 6s/step - loss: 0.7633 - accuracy: 0.5214 - val_loss: 0.7526 - val_accuracy: 0.5042\n",
      "Epoch 26/100\n",
      "35/35 [==============================] - 215s 6s/step - loss: 0.7610 - accuracy: 0.5170 - val_loss: 0.7497 - val_accuracy: 0.5104\n",
      "Epoch 27/100\n",
      "35/35 [==============================] - 208s 6s/step - loss: 0.7688 - accuracy: 0.5080 - val_loss: 0.7468 - val_accuracy: 0.5104\n",
      "Epoch 28/100\n",
      "35/35 [==============================] - 198s 6s/step - loss: 0.7617 - accuracy: 0.5116 - val_loss: 0.7441 - val_accuracy: 0.5083\n",
      "Epoch 29/100\n",
      "35/35 [==============================] - 207s 6s/step - loss: 0.7349 - accuracy: 0.5571 - val_loss: 0.7418 - val_accuracy: 0.5125\n",
      "Epoch 30/100\n",
      "35/35 [==============================] - 207s 6s/step - loss: 0.7437 - accuracy: 0.5286 - val_loss: 0.7394 - val_accuracy: 0.5021\n",
      "Epoch 31/100\n",
      "35/35 [==============================] - 207s 6s/step - loss: 0.7482 - accuracy: 0.5205 - val_loss: 0.7375 - val_accuracy: 0.5063\n",
      "Epoch 32/100\n",
      "35/35 [==============================] - 199s 6s/step - loss: 0.7455 - accuracy: 0.5098 - val_loss: 0.7356 - val_accuracy: 0.5042\n",
      "Epoch 33/100\n",
      "35/35 [==============================] - 197s 6s/step - loss: 0.7461 - accuracy: 0.5205 - val_loss: 0.7342 - val_accuracy: 0.5208\n",
      "Epoch 34/100\n",
      "35/35 [==============================] - 204s 6s/step - loss: 0.7561 - accuracy: 0.5036 - val_loss: 0.7327 - val_accuracy: 0.5292\n",
      "Epoch 35/100\n",
      "35/35 [==============================] - 523s 15s/step - loss: 0.7434 - accuracy: 0.5143 - val_loss: 0.7316 - val_accuracy: 0.5250\n",
      "Epoch 36/100\n",
      "35/35 [==============================] - 167s 5s/step - loss: 0.7370 - accuracy: 0.5312 - val_loss: 0.7302 - val_accuracy: 0.5271\n",
      "Epoch 37/100\n",
      "35/35 [==============================] - 168s 5s/step - loss: 0.7407 - accuracy: 0.5098 - val_loss: 0.7292 - val_accuracy: 0.5312\n",
      "Epoch 38/100\n",
      "35/35 [==============================] - 170s 5s/step - loss: 0.7372 - accuracy: 0.5063 - val_loss: 0.7281 - val_accuracy: 0.5250\n",
      "Epoch 39/100\n",
      "35/35 [==============================] - 173s 5s/step - loss: 0.7423 - accuracy: 0.5000 - val_loss: 0.7271 - val_accuracy: 0.5333\n",
      "Epoch 40/100\n",
      "35/35 [==============================] - 177s 5s/step - loss: 0.7428 - accuracy: 0.5107 - val_loss: 0.7261 - val_accuracy: 0.5354\n",
      "Epoch 41/100\n",
      "35/35 [==============================] - 186s 5s/step - loss: 0.7395 - accuracy: 0.5214 - val_loss: 0.7252 - val_accuracy: 0.5396\n",
      "Epoch 42/100\n",
      "35/35 [==============================] - 178s 5s/step - loss: 0.7362 - accuracy: 0.5045 - val_loss: 0.7245 - val_accuracy: 0.5437\n",
      "Epoch 43/100\n",
      "35/35 [==============================] - 181s 5s/step - loss: 0.7229 - accuracy: 0.5339 - val_loss: 0.7237 - val_accuracy: 0.5375\n",
      "Epoch 44/100\n",
      "35/35 [==============================] - 182s 5s/step - loss: 0.7320 - accuracy: 0.5143 - val_loss: 0.7229 - val_accuracy: 0.5292\n",
      "Epoch 45/100\n",
      "35/35 [==============================] - 185s 5s/step - loss: 0.7369 - accuracy: 0.5009 - val_loss: 0.7223 - val_accuracy: 0.5333\n",
      "Epoch 46/100\n",
      "35/35 [==============================] - 162s 5s/step - loss: 0.7383 - accuracy: 0.5071 - val_loss: 0.7218 - val_accuracy: 0.5375\n",
      "Epoch 47/100\n",
      "35/35 [==============================] - 158s 5s/step - loss: 0.7323 - accuracy: 0.4902 - val_loss: 0.7212 - val_accuracy: 0.5333\n",
      "Epoch 48/100\n",
      "35/35 [==============================] - 157s 4s/step - loss: 0.7425 - accuracy: 0.4991 - val_loss: 0.7208 - val_accuracy: 0.5354\n",
      "Epoch 49/100\n",
      "35/35 [==============================] - 166s 5s/step - loss: 0.7341 - accuracy: 0.5027 - val_loss: 0.7203 - val_accuracy: 0.5271\n",
      "Epoch 50/100\n",
      "35/35 [==============================] - 158s 5s/step - loss: 0.7292 - accuracy: 0.5214 - val_loss: 0.7200 - val_accuracy: 0.5292\n",
      "Epoch 51/100\n",
      "35/35 [==============================] - 158s 5s/step - loss: 0.7403 - accuracy: 0.5170 - val_loss: 0.7196 - val_accuracy: 0.5333\n",
      "Epoch 52/100\n",
      "35/35 [==============================] - 158s 5s/step - loss: 0.7182 - accuracy: 0.5473 - val_loss: 0.7192 - val_accuracy: 0.5396\n",
      "Epoch 53/100\n",
      "35/35 [==============================] - 571s 16s/step - loss: 0.7257 - accuracy: 0.5161 - val_loss: 0.7186 - val_accuracy: 0.5292\n",
      "Epoch 54/100\n",
      "35/35 [==============================] - 4769s 136s/step - loss: 0.7264 - accuracy: 0.5286 - val_loss: 0.7183 - val_accuracy: 0.5312\n",
      "Epoch 55/100\n",
      "35/35 [==============================] - 10140s 290s/step - loss: 0.7317 - accuracy: 0.5152 - val_loss: 0.7178 - val_accuracy: 0.5312\n",
      "Epoch 56/100\n",
      "35/35 [==============================] - 6559s 187s/step - loss: 0.7345 - accuracy: 0.5071 - val_loss: 0.7175 - val_accuracy: 0.5292\n",
      "Epoch 57/100\n",
      "35/35 [==============================] - 3669s 105s/step - loss: 0.7255 - accuracy: 0.5250 - val_loss: 0.7174 - val_accuracy: 0.4979\n",
      "Epoch 58/100\n"
     ]
    },
    {
     "name": "stdout",
     "output_type": "stream",
     "text": [
      "35/35 [==============================] - 377s 11s/step - loss: 0.7256 - accuracy: 0.5223 - val_loss: 0.7171 - val_accuracy: 0.4979\n",
      "Epoch 59/100\n",
      "35/35 [==============================] - 1915s 55s/step - loss: 0.7112 - accuracy: 0.5304 - val_loss: 0.7167 - val_accuracy: 0.5208\n",
      "Epoch 60/100\n",
      "35/35 [==============================] - 163s 5s/step - loss: 0.7147 - accuracy: 0.5571 - val_loss: 0.7164 - val_accuracy: 0.5167\n",
      "Epoch 61/100\n",
      "35/35 [==============================] - 158s 5s/step - loss: 0.7175 - accuracy: 0.5250 - val_loss: 0.7163 - val_accuracy: 0.5104\n",
      "Epoch 62/100\n",
      "35/35 [==============================] - 158s 5s/step - loss: 0.7303 - accuracy: 0.5000 - val_loss: 0.7162 - val_accuracy: 0.5104\n",
      "Epoch 63/100\n",
      "35/35 [==============================] - 158s 5s/step - loss: 0.7073 - accuracy: 0.5571 - val_loss: 0.7159 - val_accuracy: 0.5146\n",
      "Epoch 64/100\n",
      "35/35 [==============================] - 303s 9s/step - loss: 0.7221 - accuracy: 0.5170 - val_loss: 0.7158 - val_accuracy: 0.5125\n",
      "Epoch 65/100\n",
      "35/35 [==============================] - 174s 5s/step - loss: 0.7148 - accuracy: 0.5330 - val_loss: 0.7157 - val_accuracy: 0.5104\n",
      "Epoch 66/100\n",
      "35/35 [==============================] - 164s 5s/step - loss: 0.7262 - accuracy: 0.5116 - val_loss: 0.7158 - val_accuracy: 0.4958\n",
      "Epoch 67/100\n",
      "35/35 [==============================] - 163s 5s/step - loss: 0.7255 - accuracy: 0.5116 - val_loss: 0.7155 - val_accuracy: 0.5042\n",
      "Epoch 68/100\n",
      "35/35 [==============================] - 839s 24s/step - loss: 0.7130 - accuracy: 0.5259 - val_loss: 0.7154 - val_accuracy: 0.5083\n",
      "Epoch 69/100\n",
      "35/35 [==============================] - 159s 5s/step - loss: 0.7068 - accuracy: 0.5482 - val_loss: 0.7152 - val_accuracy: 0.4896\n",
      "Epoch 70/100\n",
      "35/35 [==============================] - 158s 5s/step - loss: 0.7169 - accuracy: 0.5304 - val_loss: 0.7150 - val_accuracy: 0.5021\n",
      "Epoch 71/100\n",
      "35/35 [==============================] - 159s 5s/step - loss: 0.7356 - accuracy: 0.4866 - val_loss: 0.7150 - val_accuracy: 0.4833\n",
      "Epoch 72/100\n",
      "35/35 [==============================] - 160s 5s/step - loss: 0.7022 - accuracy: 0.5634 - val_loss: 0.7147 - val_accuracy: 0.4917\n",
      "Epoch 73/100\n",
      "35/35 [==============================] - 3261s 93s/step - loss: 0.7136 - accuracy: 0.5277 - val_loss: 0.7144 - val_accuracy: 0.4979\n",
      "Epoch 74/100\n",
      "35/35 [==============================] - 168s 5s/step - loss: 0.7188 - accuracy: 0.5321 - val_loss: 0.7144 - val_accuracy: 0.4792\n",
      "Epoch 75/100\n",
      "35/35 [==============================] - 171s 5s/step - loss: 0.7126 - accuracy: 0.5429 - val_loss: 0.7144 - val_accuracy: 0.4854\n",
      "Epoch 76/100\n",
      "35/35 [==============================] - 159s 5s/step - loss: 0.7235 - accuracy: 0.5054 - val_loss: 0.7143 - val_accuracy: 0.4958\n",
      "Epoch 77/100\n",
      "35/35 [==============================] - 160s 5s/step - loss: 0.7177 - accuracy: 0.5196 - val_loss: 0.7142 - val_accuracy: 0.4812\n",
      "Epoch 78/100\n",
      "35/35 [==============================] - 162s 5s/step - loss: 0.7163 - accuracy: 0.5232 - val_loss: 0.7143 - val_accuracy: 0.4792\n",
      "Epoch 79/100\n",
      "35/35 [==============================] - 289s 8s/step - loss: 0.7160 - accuracy: 0.5339 - val_loss: 0.7144 - val_accuracy: 0.4812\n",
      "Epoch 80/100\n",
      "35/35 [==============================] - 179s 5s/step - loss: 0.7128 - accuracy: 0.5455 - val_loss: 0.7141 - val_accuracy: 0.4812\n",
      "Epoch 81/100\n",
      "35/35 [==============================] - 180s 5s/step - loss: 0.7189 - accuracy: 0.5205 - val_loss: 0.7139 - val_accuracy: 0.4812\n",
      "Epoch 82/100\n",
      "35/35 [==============================] - 181s 5s/step - loss: 0.7160 - accuracy: 0.5170 - val_loss: 0.7138 - val_accuracy: 0.4833\n",
      "Epoch 83/100\n",
      "35/35 [==============================] - 184s 5s/step - loss: 0.7143 - accuracy: 0.5286 - val_loss: 0.7138 - val_accuracy: 0.4812\n",
      "Epoch 84/100\n",
      "35/35 [==============================] - 187s 5s/step - loss: 0.7023 - accuracy: 0.5562 - val_loss: 0.7135 - val_accuracy: 0.4938\n",
      "Epoch 85/100\n",
      "35/35 [==============================] - 183s 5s/step - loss: 0.7226 - accuracy: 0.5071 - val_loss: 0.7137 - val_accuracy: 0.4812\n",
      "Epoch 86/100\n",
      "35/35 [==============================] - 190s 5s/step - loss: 0.7146 - accuracy: 0.5152 - val_loss: 0.7137 - val_accuracy: 0.4750\n",
      "Epoch 87/100\n",
      "35/35 [==============================] - 182s 5s/step - loss: 0.7103 - accuracy: 0.5393 - val_loss: 0.7138 - val_accuracy: 0.4792\n",
      "Epoch 88/100\n",
      "35/35 [==============================] - 174s 5s/step - loss: 0.7247 - accuracy: 0.5268 - val_loss: 0.7137 - val_accuracy: 0.4750\n",
      "Epoch 89/100\n",
      "35/35 [==============================] - 172s 5s/step - loss: 0.7166 - accuracy: 0.5107 - val_loss: 0.7135 - val_accuracy: 0.4812\n",
      "Epoch 90/100\n",
      "35/35 [==============================] - 178s 5s/step - loss: 0.7184 - accuracy: 0.5250 - val_loss: 0.7136 - val_accuracy: 0.4729\n",
      "Epoch 91/100\n",
      "35/35 [==============================] - 178s 5s/step - loss: 0.7084 - accuracy: 0.5491 - val_loss: 0.7136 - val_accuracy: 0.4708\n",
      "Epoch 92/100\n",
      "35/35 [==============================] - 6985s 200s/step - loss: 0.7133 - accuracy: 0.5286 - val_loss: 0.7133 - val_accuracy: 0.4833\n",
      "Epoch 93/100\n",
      "35/35 [==============================] - 158s 5s/step - loss: 0.7084 - accuracy: 0.5411 - val_loss: 0.7134 - val_accuracy: 0.4875\n",
      "Epoch 94/100\n",
      "35/35 [==============================] - 160s 5s/step - loss: 0.6961 - accuracy: 0.5777 - val_loss: 0.7133 - val_accuracy: 0.4792\n",
      "Epoch 95/100\n",
      "35/35 [==============================] - 169s 5s/step - loss: 0.7000 - accuracy: 0.5446 - val_loss: 0.7132 - val_accuracy: 0.4750\n",
      "Epoch 96/100\n",
      "35/35 [==============================] - 167s 5s/step - loss: 0.7076 - accuracy: 0.5384 - val_loss: 0.7132 - val_accuracy: 0.4750\n",
      "Epoch 97/100\n",
      "35/35 [==============================] - 174s 5s/step - loss: 0.7067 - accuracy: 0.5482 - val_loss: 0.7132 - val_accuracy: 0.4688\n",
      "Epoch 98/100\n",
      "35/35 [==============================] - 176s 5s/step - loss: 0.7016 - accuracy: 0.5545 - val_loss: 0.7131 - val_accuracy: 0.4771\n",
      "Epoch 99/100\n",
      "35/35 [==============================] - 175s 5s/step - loss: 0.6947 - accuracy: 0.5580 - val_loss: 0.7130 - val_accuracy: 0.4812\n",
      "Epoch 100/100\n",
      "35/35 [==============================] - 175s 5s/step - loss: 0.7036 - accuracy: 0.5491 - val_loss: 0.7132 - val_accuracy: 0.4708\n"
     ]
    }
   ],
   "source": [
    "CNN_history = CNN_model.fit(train_data, train_label, epochs=100,\n",
    "                           batch_size=32,\n",
    "                           shuffle=True,\n",
    "                           #callbacks = [callback],\n",
    "                           validation_split=0.3)"
   ]
  },
  {
   "cell_type": "code",
   "execution_count": 18,
   "metadata": {},
   "outputs": [
    {
     "name": "stdout",
     "output_type": "stream",
     "text": [
      "13/13 - 13s - loss: 0.6986 - accuracy: 0.5263\n"
     ]
    }
   ],
   "source": [
    "result = CNN_model.evaluate(test_data, test_label, verbose=2)"
   ]
  },
  {
   "cell_type": "code",
   "execution_count": 19,
   "metadata": {},
   "outputs": [],
   "source": [
    "predictions = np.argmax(CNN_model.predict(test_data[:]),axis=1)"
   ]
  },
  {
   "cell_type": "code",
   "execution_count": 20,
   "metadata": {},
   "outputs": [
    {
     "name": "stdout",
     "output_type": "stream",
     "text": [
      "              precision    recall  f1-score   support\n",
      "\n",
      "           1       0.52      0.81      0.63       200\n",
      "           2       0.56      0.24      0.34       199\n",
      "\n",
      "    accuracy                           0.53       399\n",
      "   macro avg       0.54      0.53      0.48       399\n",
      "weighted avg       0.54      0.53      0.48       399\n",
      "\n"
     ]
    }
   ],
   "source": [
    "print(classification_report(test_label, predictions))"
   ]
  },
  {
   "cell_type": "code",
   "execution_count": 21,
   "metadata": {},
   "outputs": [
    {
     "data": {
      "image/png": "[encoded data removed]",
      "text/plain": [
       "<Figure size 432x288 with 1 Axes>"
      ]
     },
     "metadata": {
      "needs_background": "light"
     },
     "output_type": "display_data"
    }
   ],
   "source": [
    "plt.plot(CNN_history.history['loss'])\n",
    "plt.plot(CNN_history.history['val_loss'])\n",
    "plt.title('Model Loss')\n",
    "#plt.yscale(\"log\")\n",
    "plt.ylabel('Loss')\n",
    "plt.xlabel('epoch')\n",
    "plt.legend(['train', 'test'], loc='upper left')\n",
    "plt.show()"
   ]
  },
  {
   "cell_type": "code",
   "execution_count": 23,
   "metadata": {},
   "outputs": [],
   "source": [
    "from sklearn.metrics import confusion_matrix\n",
    "import itertools"
   ]
  },
  {
   "cell_type": "code",
   "execution_count": 24,
   "metadata": {},
   "outputs": [],
   "source": [
    "cm = confusion_matrix(test_label, predictions)"
   ]
  },
  {
   "cell_type": "code",
   "execution_count": 25,
   "metadata": {},
   "outputs": [],
   "source": [
    "def plot_confusion_matrix(cm, classes,\n",
    "                         normalize=False,\n",
    "                         title='Confusion matrix',\n",
    "                         include_values=True,\n",
    "                         cmap=plt.cm.Blues):\n",
    "    plt.imshow(cm, interpolation='nearest', cmap=cmap)\n",
    "    plt.title(title)\n",
    "    plt.colorbar()\n",
    "    tick_marks = np.arange(len(classes))\n",
    "    plt.xticks(tick_marks, classes, rotation=0)\n",
    "    plt.yticks(tick_marks, classes)\n",
    "    \n",
    "    thresh = cm.max() /2\n",
    "    for i, j in itertools.product(range(cm.shape[0]), range(cm.shape[1])):\n",
    "        plt.text(j, i, cm[i, j],\n",
    "                horizontalalignment=\"center\",\n",
    "                color=\"white\" if cm[i, j] > thresh else \"black\")\n",
    "    \n",
    "    \n",
    "    plt.tight_layout()\n",
    "    plt.ylabel('True label')\n",
    "    plt.xlabel('Predicted label')"
   ]
  },
  {
   "cell_type": "code",
   "execution_count": 27,
   "metadata": {},
   "outputs": [
    {
     "data": {
      "image/png": "[encoded data removed]",
      "text/plain": [
       "<Figure size 432x288 with 2 Axes>"
      ]
     },
     "metadata": {
      "needs_background": "light"
     },
     "output_type": "display_data"
    }
   ],
   "source": [
    "cm_plot_labels = ['non-event', 'event'] # 1 being non event and 2 being event\n",
    "plot_confusion_matrix(cm, cm_plot_labels, title='Confusion matrix')"
   ]
  },
  {
   "cell_type": "code",
   "execution_count": null,
   "metadata": {},
   "outputs": [],
   "source": []
  }
 ],
 "metadata": {
  "kernelspec": {
   "display_name": "Python 3",
   "language": "python",
   "name": "python3"
  },
  "language_info": {
   "codemirror_mode": {
    "name": "ipython",
    "version": 3
   },
   "file_extension": ".py",
   "mimetype": "text/x-python",
   "name": "python",
   "nbconvert_exporter": "python",
   "pygments_lexer": "ipython3",
   "version": "3.7.4"
  }
 },
 "nbformat": 4,
 "nbformat_minor": 4
}
